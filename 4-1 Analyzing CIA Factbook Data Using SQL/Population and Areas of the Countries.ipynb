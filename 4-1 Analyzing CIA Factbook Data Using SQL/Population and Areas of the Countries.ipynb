{
 "cells": [
  {
   "cell_type": "markdown",
   "metadata": {},
   "source": [
    "## Connecting to the database\n",
    "The following code is required for connecting Jupyter Notebook to our database file."
   ]
  },
  {
   "cell_type": "code",
   "execution_count": 41,
   "metadata": {},
   "outputs": [],
   "source": [
    "%%capture\n",
    "%load_ext sql\n",
    "%sql sqlite:///factbook.db"
   ]
  },
  {
   "cell_type": "markdown",
   "metadata": {},
   "source": [
    "## Exploring the data\n",
    "We print out the first five rows of the dataset to understand it firstly."
   ]
  },
  {
   "cell_type": "code",
   "execution_count": 42,
   "metadata": {
    "scrolled": true
   },
   "outputs": [
    {
     "name": "stdout",
     "output_type": "stream",
     "text": [
      " * sqlite:///factbook.db\n",
      "Done.\n"
     ]
    },
    {
     "data": {
      "text/html": [
       "<table>\n",
       "    <thead>\n",
       "        <tr>\n",
       "            <th>id</th>\n",
       "            <th>code</th>\n",
       "            <th>name</th>\n",
       "            <th>area</th>\n",
       "            <th>area_land</th>\n",
       "            <th>area_water</th>\n",
       "            <th>population</th>\n",
       "            <th>population_growth</th>\n",
       "            <th>birth_rate</th>\n",
       "            <th>death_rate</th>\n",
       "            <th>migration_rate</th>\n",
       "        </tr>\n",
       "    </thead>\n",
       "    <tbody>\n",
       "        <tr>\n",
       "            <td>1</td>\n",
       "            <td>af</td>\n",
       "            <td>Afghanistan</td>\n",
       "            <td>652230</td>\n",
       "            <td>652230</td>\n",
       "            <td>0</td>\n",
       "            <td>32564342</td>\n",
       "            <td>2.32</td>\n",
       "            <td>38.57</td>\n",
       "            <td>13.89</td>\n",
       "            <td>1.51</td>\n",
       "        </tr>\n",
       "        <tr>\n",
       "            <td>2</td>\n",
       "            <td>al</td>\n",
       "            <td>Albania</td>\n",
       "            <td>28748</td>\n",
       "            <td>27398</td>\n",
       "            <td>1350</td>\n",
       "            <td>3029278</td>\n",
       "            <td>0.3</td>\n",
       "            <td>12.92</td>\n",
       "            <td>6.58</td>\n",
       "            <td>3.3</td>\n",
       "        </tr>\n",
       "        <tr>\n",
       "            <td>3</td>\n",
       "            <td>ag</td>\n",
       "            <td>Algeria</td>\n",
       "            <td>2381741</td>\n",
       "            <td>2381741</td>\n",
       "            <td>0</td>\n",
       "            <td>39542166</td>\n",
       "            <td>1.84</td>\n",
       "            <td>23.67</td>\n",
       "            <td>4.31</td>\n",
       "            <td>0.92</td>\n",
       "        </tr>\n",
       "        <tr>\n",
       "            <td>4</td>\n",
       "            <td>an</td>\n",
       "            <td>Andorra</td>\n",
       "            <td>468</td>\n",
       "            <td>468</td>\n",
       "            <td>0</td>\n",
       "            <td>85580</td>\n",
       "            <td>0.12</td>\n",
       "            <td>8.13</td>\n",
       "            <td>6.96</td>\n",
       "            <td>0.0</td>\n",
       "        </tr>\n",
       "        <tr>\n",
       "            <td>5</td>\n",
       "            <td>ao</td>\n",
       "            <td>Angola</td>\n",
       "            <td>1246700</td>\n",
       "            <td>1246700</td>\n",
       "            <td>0</td>\n",
       "            <td>19625353</td>\n",
       "            <td>2.78</td>\n",
       "            <td>38.78</td>\n",
       "            <td>11.49</td>\n",
       "            <td>0.46</td>\n",
       "        </tr>\n",
       "    </tbody>\n",
       "</table>"
      ],
      "text/plain": [
       "[(1, 'af', 'Afghanistan', 652230, 652230, 0, 32564342, 2.32, 38.57, 13.89, 1.51),\n",
       " (2, 'al', 'Albania', 28748, 27398, 1350, 3029278, 0.3, 12.92, 6.58, 3.3),\n",
       " (3, 'ag', 'Algeria', 2381741, 2381741, 0, 39542166, 1.84, 23.67, 4.31, 0.92),\n",
       " (4, 'an', 'Andorra', 468, 468, 0, 85580, 0.12, 8.13, 6.96, 0.0),\n",
       " (5, 'ao', 'Angola', 1246700, 1246700, 0, 19625353, 2.78, 38.78, 11.49, 0.46)]"
      ]
     },
     "execution_count": 42,
     "metadata": {},
     "output_type": "execute_result"
    }
   ],
   "source": [
    "%%sql\n",
    "SELECT *\n",
    "FROM facts\n",
    "LIMIT 5;"
   ]
  },
  {
   "cell_type": "markdown",
   "metadata": {},
   "source": [
    "As seen above, the dataset contains area and population information about countries. \n",
    "\n",
    "- `name` - The name of the country.\n",
    "- `area` - The total land and sea area of the country.\n",
    "- `population` - The country's population.\n",
    "- `population_growth`- The country's population growth as a percentage.\n",
    "- `birth_rate` - The country's birth rate, or the number of births a year per 1,000 people.\n",
    "- `death_rate` - The country's death rate, or the number of death a year per 1,000 people.\n",
    "- `area` - The country's total area (both land and water).\n",
    "- `area_land` - The country's land area in square kilometers.\n",
    "- `area_water` - The country's waterarea in square kilometers.\n",
    "\n",
    "We have to write `%%sql` at the beginning of the each cell because being able to use SQL syntax.\n",
    "\n",
    "We begin to examine the data by finding the maximum and minimum values of population columns, ."
   ]
  },
  {
   "cell_type": "code",
   "execution_count": 43,
   "metadata": {},
   "outputs": [
    {
     "name": "stdout",
     "output_type": "stream",
     "text": [
      " * sqlite:///factbook.db\n",
      "Done.\n"
     ]
    },
    {
     "data": {
      "text/html": [
       "<table>\n",
       "    <thead>\n",
       "        <tr>\n",
       "            <th>Lowest Population</th>\n",
       "            <th>Highest Population</th>\n",
       "            <th>Lowest Pop. Growth</th>\n",
       "            <th>Highest Pop. Growth</th>\n",
       "        </tr>\n",
       "    </thead>\n",
       "    <tbody>\n",
       "        <tr>\n",
       "            <td>0</td>\n",
       "            <td>7256490011</td>\n",
       "            <td>0.0</td>\n",
       "            <td>4.02</td>\n",
       "        </tr>\n",
       "    </tbody>\n",
       "</table>"
      ],
      "text/plain": [
       "[(0, 7256490011, 0.0, 4.02)]"
      ]
     },
     "execution_count": 43,
     "metadata": {},
     "output_type": "execute_result"
    }
   ],
   "source": [
    "%%sql\n",
    "SELECT  MIN(population) 'Lowest Population', \n",
    "        MAX(population) 'Highest Population', \n",
    "        MIN(population_growth) 'Lowest Pop. Growth', \n",
    "        MAX(population_growth) 'Highest Pop. Growth'\n",
    "FROM facts"
   ]
  },
  {
   "cell_type": "markdown",
   "metadata": {},
   "source": [
    "It seems that minimum and maximum population valuee are weird. Normally, population of a country should not be 0. Population of the most crowded country is nearly equal total population of the world. We take a closer look at these values."
   ]
  },
  {
   "cell_type": "code",
   "execution_count": 44,
   "metadata": {
    "scrolled": true
   },
   "outputs": [
    {
     "name": "stdout",
     "output_type": "stream",
     "text": [
      " * sqlite:///factbook.db\n",
      "Done.\n"
     ]
    },
    {
     "data": {
      "text/html": [
       "<table>\n",
       "    <thead>\n",
       "        <tr>\n",
       "            <th>id</th>\n",
       "            <th>code</th>\n",
       "            <th>name</th>\n",
       "            <th>area</th>\n",
       "            <th>area_land</th>\n",
       "            <th>area_water</th>\n",
       "            <th>population</th>\n",
       "            <th>population_growth</th>\n",
       "            <th>birth_rate</th>\n",
       "            <th>death_rate</th>\n",
       "            <th>migration_rate</th>\n",
       "        </tr>\n",
       "    </thead>\n",
       "    <tbody>\n",
       "        <tr>\n",
       "            <td>250</td>\n",
       "            <td>ay</td>\n",
       "            <td>Antarctica</td>\n",
       "            <td>None</td>\n",
       "            <td>280000</td>\n",
       "            <td>None</td>\n",
       "            <td>0</td>\n",
       "            <td>None</td>\n",
       "            <td>None</td>\n",
       "            <td>None</td>\n",
       "            <td>None</td>\n",
       "        </tr>\n",
       "    </tbody>\n",
       "</table>"
      ],
      "text/plain": [
       "[(250, 'ay', 'Antarctica', None, 280000, None, 0, None, None, None, None)]"
      ]
     },
     "execution_count": 44,
     "metadata": {},
     "output_type": "execute_result"
    }
   ],
   "source": [
    "%%sql\n",
    "SELECT *\n",
    "FROM facts\n",
    "WHERE population==(SELECT MIN(population)\n",
    "                  FROM facts)"
   ]
  },
  {
   "cell_type": "markdown",
   "metadata": {},
   "source": [
    "The country with 'zero' population is Antarctica. Antarctica is not a country actually. We understand that the dataset can also include non-country rows. Now let's investigate the most populous country."
   ]
  },
  {
   "cell_type": "code",
   "execution_count": 45,
   "metadata": {},
   "outputs": [
    {
     "name": "stdout",
     "output_type": "stream",
     "text": [
      " * sqlite:///factbook.db\n",
      "Done.\n"
     ]
    },
    {
     "data": {
      "text/html": [
       "<table>\n",
       "    <thead>\n",
       "        <tr>\n",
       "            <th>id</th>\n",
       "            <th>code</th>\n",
       "            <th>name</th>\n",
       "            <th>area</th>\n",
       "            <th>area_land</th>\n",
       "            <th>area_water</th>\n",
       "            <th>population</th>\n",
       "            <th>population_growth</th>\n",
       "            <th>birth_rate</th>\n",
       "            <th>death_rate</th>\n",
       "            <th>migration_rate</th>\n",
       "        </tr>\n",
       "    </thead>\n",
       "    <tbody>\n",
       "        <tr>\n",
       "            <td>261</td>\n",
       "            <td>xx</td>\n",
       "            <td>World</td>\n",
       "            <td>None</td>\n",
       "            <td>None</td>\n",
       "            <td>None</td>\n",
       "            <td>7256490011</td>\n",
       "            <td>1.08</td>\n",
       "            <td>18.6</td>\n",
       "            <td>7.8</td>\n",
       "            <td>None</td>\n",
       "        </tr>\n",
       "    </tbody>\n",
       "</table>"
      ],
      "text/plain": [
       "[(261, 'xx', 'World', None, None, None, 7256490011, 1.08, 18.6, 7.8, None)]"
      ]
     },
     "execution_count": 45,
     "metadata": {},
     "output_type": "execute_result"
    }
   ],
   "source": [
    "%%sql\n",
    "SELECT *\n",
    "FROM facts\n",
    "WHERE population==(SELECT MAX(population)\n",
    "                  FROM facts)"
   ]
  },
  {
   "cell_type": "markdown",
   "metadata": {},
   "source": [
    "We also understand the reason why the highest population value is too high. It gives the total population of the world. \n",
    "\n",
    "Now let's recalculate the values without the row of the world."
   ]
  },
  {
   "cell_type": "code",
   "execution_count": 46,
   "metadata": {},
   "outputs": [
    {
     "name": "stdout",
     "output_type": "stream",
     "text": [
      " * sqlite:///factbook.db\n",
      "Done.\n"
     ]
    },
    {
     "data": {
      "text/html": [
       "<table>\n",
       "    <thead>\n",
       "        <tr>\n",
       "            <th>Lowest Population</th>\n",
       "            <th>Highest Population</th>\n",
       "            <th>Lowest Pop. Growth</th>\n",
       "            <th>Highest Pop. Growth</th>\n",
       "        </tr>\n",
       "    </thead>\n",
       "    <tbody>\n",
       "        <tr>\n",
       "            <td>0</td>\n",
       "            <td>1367485388</td>\n",
       "            <td>0.0</td>\n",
       "            <td>4.02</td>\n",
       "        </tr>\n",
       "    </tbody>\n",
       "</table>"
      ],
      "text/plain": [
       "[(0, 1367485388, 0.0, 4.02)]"
      ]
     },
     "execution_count": 46,
     "metadata": {},
     "output_type": "execute_result"
    }
   ],
   "source": [
    "%%sql\n",
    "SELECT  MIN(population) 'Lowest Population', \n",
    "        MAX(population) 'Highest Population', \n",
    "        MIN(population_growth) 'Lowest Pop. Growth', \n",
    "        MAX(population_growth) 'Highest Pop. Growth'\n",
    "FROM facts\n",
    "WHERE name!=\"World\""
   ]
  },
  {
   "cell_type": "markdown",
   "metadata": {},
   "source": [
    "The population of the world's most populous country is about 1.4 billion. It is known that this country is China.\n",
    "\n",
    "## Finding densely populated contries \n",
    "\n",
    "Let's find the countries with the higher population density. We need the average population and area of the countries for this goal."
   ]
  },
  {
   "cell_type": "code",
   "execution_count": 47,
   "metadata": {
    "scrolled": true
   },
   "outputs": [
    {
     "name": "stdout",
     "output_type": "stream",
     "text": [
      " * sqlite:///factbook.db\n",
      "Done.\n"
     ]
    },
    {
     "data": {
      "text/html": [
       "<table>\n",
       "    <thead>\n",
       "        <tr>\n",
       "            <th>Avg Pop</th>\n",
       "            <th>Avg Area</th>\n",
       "        </tr>\n",
       "    </thead>\n",
       "    <tbody>\n",
       "        <tr>\n",
       "            <td>32242666.56846473</td>\n",
       "            <td>555093.546184739</td>\n",
       "        </tr>\n",
       "    </tbody>\n",
       "</table>"
      ],
      "text/plain": [
       "[(32242666.56846473, 555093.546184739)]"
      ]
     },
     "execution_count": 47,
     "metadata": {},
     "output_type": "execute_result"
    }
   ],
   "source": [
    "%%sql\n",
    "SELECT  AVG(population) 'Avg Pop', \n",
    "        AVG(area) 'Avg Area'\n",
    "FROM facts\n",
    "WHERE name!='World'"
   ]
  },
  {
   "cell_type": "markdown",
   "metadata": {},
   "source": [
    "Countries with population above world average population and area below world average may be considered densely."
   ]
  },
  {
   "cell_type": "code",
   "execution_count": 48,
   "metadata": {
    "scrolled": true
   },
   "outputs": [
    {
     "name": "stdout",
     "output_type": "stream",
     "text": [
      " * sqlite:///factbook.db\n",
      "Done.\n"
     ]
    },
    {
     "data": {
      "text/html": [
       "<table>\n",
       "    <thead>\n",
       "        <tr>\n",
       "            <th>id</th>\n",
       "            <th>code</th>\n",
       "            <th>name</th>\n",
       "            <th>area</th>\n",
       "            <th>area_land</th>\n",
       "            <th>area_water</th>\n",
       "            <th>population</th>\n",
       "            <th>population_growth</th>\n",
       "            <th>birth_rate</th>\n",
       "            <th>death_rate</th>\n",
       "            <th>migration_rate</th>\n",
       "        </tr>\n",
       "    </thead>\n",
       "    <tbody>\n",
       "        <tr>\n",
       "            <td>14</td>\n",
       "            <td>bg</td>\n",
       "            <td>Bangladesh</td>\n",
       "            <td>148460</td>\n",
       "            <td>130170</td>\n",
       "            <td>18290</td>\n",
       "            <td>168957745</td>\n",
       "            <td>1.6</td>\n",
       "            <td>21.14</td>\n",
       "            <td>5.61</td>\n",
       "            <td>0.46</td>\n",
       "        </tr>\n",
       "        <tr>\n",
       "            <td>65</td>\n",
       "            <td>gm</td>\n",
       "            <td>Germany</td>\n",
       "            <td>357022</td>\n",
       "            <td>348672</td>\n",
       "            <td>8350</td>\n",
       "            <td>80854408</td>\n",
       "            <td>0.17</td>\n",
       "            <td>8.47</td>\n",
       "            <td>11.42</td>\n",
       "            <td>1.24</td>\n",
       "        </tr>\n",
       "        <tr>\n",
       "            <td>80</td>\n",
       "            <td>iz</td>\n",
       "            <td>Iraq</td>\n",
       "            <td>438317</td>\n",
       "            <td>437367</td>\n",
       "            <td>950</td>\n",
       "            <td>37056169</td>\n",
       "            <td>2.93</td>\n",
       "            <td>31.45</td>\n",
       "            <td>3.77</td>\n",
       "            <td>1.62</td>\n",
       "        </tr>\n",
       "        <tr>\n",
       "            <td>83</td>\n",
       "            <td>it</td>\n",
       "            <td>Italy</td>\n",
       "            <td>301340</td>\n",
       "            <td>294140</td>\n",
       "            <td>7200</td>\n",
       "            <td>61855120</td>\n",
       "            <td>0.27</td>\n",
       "            <td>8.74</td>\n",
       "            <td>10.19</td>\n",
       "            <td>4.1</td>\n",
       "        </tr>\n",
       "        <tr>\n",
       "            <td>85</td>\n",
       "            <td>ja</td>\n",
       "            <td>Japan</td>\n",
       "            <td>377915</td>\n",
       "            <td>364485</td>\n",
       "            <td>13430</td>\n",
       "            <td>126919659</td>\n",
       "            <td>0.16</td>\n",
       "            <td>7.93</td>\n",
       "            <td>9.51</td>\n",
       "            <td>0.0</td>\n",
       "        </tr>\n",
       "        <tr>\n",
       "            <td>91</td>\n",
       "            <td>ks</td>\n",
       "            <td>Korea, South</td>\n",
       "            <td>99720</td>\n",
       "            <td>96920</td>\n",
       "            <td>2800</td>\n",
       "            <td>49115196</td>\n",
       "            <td>0.14</td>\n",
       "            <td>8.19</td>\n",
       "            <td>6.75</td>\n",
       "            <td>0.0</td>\n",
       "        </tr>\n",
       "        <tr>\n",
       "            <td>120</td>\n",
       "            <td>mo</td>\n",
       "            <td>Morocco</td>\n",
       "            <td>446550</td>\n",
       "            <td>446300</td>\n",
       "            <td>250</td>\n",
       "            <td>33322699</td>\n",
       "            <td>1.0</td>\n",
       "            <td>18.2</td>\n",
       "            <td>4.81</td>\n",
       "            <td>3.36</td>\n",
       "        </tr>\n",
       "        <tr>\n",
       "            <td>138</td>\n",
       "            <td>rp</td>\n",
       "            <td>Philippines</td>\n",
       "            <td>300000</td>\n",
       "            <td>298170</td>\n",
       "            <td>1830</td>\n",
       "            <td>100998376</td>\n",
       "            <td>1.61</td>\n",
       "            <td>24.27</td>\n",
       "            <td>6.11</td>\n",
       "            <td>2.09</td>\n",
       "        </tr>\n",
       "        <tr>\n",
       "            <td>139</td>\n",
       "            <td>pl</td>\n",
       "            <td>Poland</td>\n",
       "            <td>312685</td>\n",
       "            <td>304255</td>\n",
       "            <td>8430</td>\n",
       "            <td>38562189</td>\n",
       "            <td>0.09</td>\n",
       "            <td>9.74</td>\n",
       "            <td>10.19</td>\n",
       "            <td>0.46</td>\n",
       "        </tr>\n",
       "        <tr>\n",
       "            <td>163</td>\n",
       "            <td>sp</td>\n",
       "            <td>Spain</td>\n",
       "            <td>505370</td>\n",
       "            <td>498980</td>\n",
       "            <td>6390</td>\n",
       "            <td>48146134</td>\n",
       "            <td>0.89</td>\n",
       "            <td>9.64</td>\n",
       "            <td>9.04</td>\n",
       "            <td>8.31</td>\n",
       "        </tr>\n",
       "        <tr>\n",
       "            <td>173</td>\n",
       "            <td>th</td>\n",
       "            <td>Thailand</td>\n",
       "            <td>513120</td>\n",
       "            <td>510890</td>\n",
       "            <td>2230</td>\n",
       "            <td>67976405</td>\n",
       "            <td>0.34</td>\n",
       "            <td>11.19</td>\n",
       "            <td>7.8</td>\n",
       "            <td>0.0</td>\n",
       "        </tr>\n",
       "        <tr>\n",
       "            <td>182</td>\n",
       "            <td>ug</td>\n",
       "            <td>Uganda</td>\n",
       "            <td>241038</td>\n",
       "            <td>197100</td>\n",
       "            <td>43938</td>\n",
       "            <td>37101745</td>\n",
       "            <td>3.24</td>\n",
       "            <td>43.79</td>\n",
       "            <td>10.69</td>\n",
       "            <td>0.74</td>\n",
       "        </tr>\n",
       "        <tr>\n",
       "            <td>185</td>\n",
       "            <td>uk</td>\n",
       "            <td>United Kingdom</td>\n",
       "            <td>243610</td>\n",
       "            <td>241930</td>\n",
       "            <td>1680</td>\n",
       "            <td>64088222</td>\n",
       "            <td>0.54</td>\n",
       "            <td>12.17</td>\n",
       "            <td>9.35</td>\n",
       "            <td>2.54</td>\n",
       "        </tr>\n",
       "        <tr>\n",
       "            <td>192</td>\n",
       "            <td>vm</td>\n",
       "            <td>Vietnam</td>\n",
       "            <td>331210</td>\n",
       "            <td>310070</td>\n",
       "            <td>21140</td>\n",
       "            <td>94348835</td>\n",
       "            <td>0.97</td>\n",
       "            <td>15.96</td>\n",
       "            <td>5.93</td>\n",
       "            <td>0.3</td>\n",
       "        </tr>\n",
       "    </tbody>\n",
       "</table>"
      ],
      "text/plain": [
       "[(14, 'bg', 'Bangladesh', 148460, 130170, 18290, 168957745, 1.6, 21.14, 5.61, 0.46),\n",
       " (65, 'gm', 'Germany', 357022, 348672, 8350, 80854408, 0.17, 8.47, 11.42, 1.24),\n",
       " (80, 'iz', 'Iraq', 438317, 437367, 950, 37056169, 2.93, 31.45, 3.77, 1.62),\n",
       " (83, 'it', 'Italy', 301340, 294140, 7200, 61855120, 0.27, 8.74, 10.19, 4.1),\n",
       " (85, 'ja', 'Japan', 377915, 364485, 13430, 126919659, 0.16, 7.93, 9.51, 0.0),\n",
       " (91, 'ks', 'Korea, South', 99720, 96920, 2800, 49115196, 0.14, 8.19, 6.75, 0.0),\n",
       " (120, 'mo', 'Morocco', 446550, 446300, 250, 33322699, 1.0, 18.2, 4.81, 3.36),\n",
       " (138, 'rp', 'Philippines', 300000, 298170, 1830, 100998376, 1.61, 24.27, 6.11, 2.09),\n",
       " (139, 'pl', 'Poland', 312685, 304255, 8430, 38562189, 0.09, 9.74, 10.19, 0.46),\n",
       " (163, 'sp', 'Spain', 505370, 498980, 6390, 48146134, 0.89, 9.64, 9.04, 8.31),\n",
       " (173, 'th', 'Thailand', 513120, 510890, 2230, 67976405, 0.34, 11.19, 7.8, 0.0),\n",
       " (182, 'ug', 'Uganda', 241038, 197100, 43938, 37101745, 3.24, 43.79, 10.69, 0.74),\n",
       " (185, 'uk', 'United Kingdom', 243610, 241930, 1680, 64088222, 0.54, 12.17, 9.35, 2.54),\n",
       " (192, 'vm', 'Vietnam', 331210, 310070, 21140, 94348835, 0.97, 15.96, 5.93, 0.3)]"
      ]
     },
     "execution_count": 48,
     "metadata": {},
     "output_type": "execute_result"
    }
   ],
   "source": [
    "%%sql\n",
    "SELECT *\n",
    "FROM facts\n",
    "WHERE population>(SELECT AVG(population) \n",
    "                  FROM facts\n",
    "                  WHERE name!='World')\n",
    "AND area<(SELECT AVG(area) \n",
    "          FROM facts\n",
    "          WHERE name!='World')"
   ]
  },
  {
   "cell_type": "markdown",
   "metadata": {},
   "source": [
    "The countries above are high-populated in a relatively small area.\n",
    "\n",
    "Let's try to answer questions below.\n",
    "\n",
    "### Which country has the most people? "
   ]
  },
  {
   "cell_type": "code",
   "execution_count": 91,
   "metadata": {},
   "outputs": [
    {
     "name": "stdout",
     "output_type": "stream",
     "text": [
      " * sqlite:///factbook.db\n",
      "Done.\n"
     ]
    },
    {
     "data": {
      "text/html": [
       "<table>\n",
       "    <thead>\n",
       "        <tr>\n",
       "            <th>name</th>\n",
       "            <th>Highest_Pop</th>\n",
       "        </tr>\n",
       "    </thead>\n",
       "    <tbody>\n",
       "        <tr>\n",
       "            <td>China</td>\n",
       "            <td>1367485388</td>\n",
       "        </tr>\n",
       "    </tbody>\n",
       "</table>"
      ],
      "text/plain": [
       "[('China', 1367485388)]"
      ]
     },
     "execution_count": 91,
     "metadata": {},
     "output_type": "execute_result"
    }
   ],
   "source": [
    "%%sql\n",
    "SELECT  name, \n",
    "        MAX(population) AS Highest_Pop\n",
    "FROM facts\n",
    "WHERE name <> 'World'"
   ]
  },
  {
   "cell_type": "markdown",
   "metadata": {},
   "source": [
    "### Which country has the highest growth rate?"
   ]
  },
  {
   "cell_type": "code",
   "execution_count": 92,
   "metadata": {},
   "outputs": [
    {
     "name": "stdout",
     "output_type": "stream",
     "text": [
      " * sqlite:///factbook.db\n",
      "Done.\n"
     ]
    },
    {
     "data": {
      "text/html": [
       "<table>\n",
       "    <thead>\n",
       "        <tr>\n",
       "            <th>name</th>\n",
       "            <th>Highest_Pop_Growth</th>\n",
       "        </tr>\n",
       "    </thead>\n",
       "    <tbody>\n",
       "        <tr>\n",
       "            <td>South Sudan</td>\n",
       "            <td>4.02</td>\n",
       "        </tr>\n",
       "    </tbody>\n",
       "</table>"
      ],
      "text/plain": [
       "[('South Sudan', 4.02)]"
      ]
     },
     "execution_count": 92,
     "metadata": {},
     "output_type": "execute_result"
    }
   ],
   "source": [
    "%%sql\n",
    "SELECT name, MAX(population_growth) AS Highest_Pop_Growth\n",
    "FROM facts\n",
    "WHERE name <> 'World'"
   ]
  },
  {
   "cell_type": "markdown",
   "metadata": {},
   "source": [
    "### Which countries have the highest ratios of water to land? "
   ]
  },
  {
   "cell_type": "code",
   "execution_count": 51,
   "metadata": {},
   "outputs": [
    {
     "name": "stdout",
     "output_type": "stream",
     "text": [
      " * sqlite:///factbook.db\n",
      "Done.\n"
     ]
    },
    {
     "data": {
      "text/html": [
       "<table>\n",
       "    <thead>\n",
       "        <tr>\n",
       "            <th>name</th>\n",
       "            <th>water_land_ratio</th>\n",
       "        </tr>\n",
       "    </thead>\n",
       "    <tbody>\n",
       "        <tr>\n",
       "            <td>British Indian Ocean Territory</td>\n",
       "            <td>905.67</td>\n",
       "        </tr>\n",
       "        <tr>\n",
       "            <td>Virgin Islands</td>\n",
       "            <td>4.52</td>\n",
       "        </tr>\n",
       "        <tr>\n",
       "            <td>Puerto Rico</td>\n",
       "            <td>0.55</td>\n",
       "        </tr>\n",
       "        <tr>\n",
       "            <td>Bahamas, The</td>\n",
       "            <td>0.39</td>\n",
       "        </tr>\n",
       "        <tr>\n",
       "            <td>Guinea-Bissau</td>\n",
       "            <td>0.28</td>\n",
       "        </tr>\n",
       "        <tr>\n",
       "            <td>Malawi</td>\n",
       "            <td>0.26</td>\n",
       "        </tr>\n",
       "        <tr>\n",
       "            <td>Netherlands</td>\n",
       "            <td>0.23</td>\n",
       "        </tr>\n",
       "        <tr>\n",
       "            <td>Uganda</td>\n",
       "            <td>0.22</td>\n",
       "        </tr>\n",
       "        <tr>\n",
       "            <td>Eritrea</td>\n",
       "            <td>0.16</td>\n",
       "        </tr>\n",
       "        <tr>\n",
       "            <td>Liberia</td>\n",
       "            <td>0.16</td>\n",
       "        </tr>\n",
       "    </tbody>\n",
       "</table>"
      ],
      "text/plain": [
       "[('British Indian Ocean Territory', 905.67),\n",
       " ('Virgin Islands', 4.52),\n",
       " ('Puerto Rico', 0.55),\n",
       " ('Bahamas, The', 0.39),\n",
       " ('Guinea-Bissau', 0.28),\n",
       " ('Malawi', 0.26),\n",
       " ('Netherlands', 0.23),\n",
       " ('Uganda', 0.22),\n",
       " ('Eritrea', 0.16),\n",
       " ('Liberia', 0.16)]"
      ]
     },
     "execution_count": 51,
     "metadata": {},
     "output_type": "execute_result"
    }
   ],
   "source": [
    "%%sql\n",
    "SELECT  name, \n",
    "        ROUND(CAST(area_water AS float)/area_land,2) AS water_land_ratio\n",
    "FROM facts\n",
    "WHERE name <> 'World'\n",
    "ORDER BY water_land_ratio DESC\n",
    "LIMIT 10"
   ]
  },
  {
   "cell_type": "markdown",
   "metadata": {},
   "source": [
    "British Indian Ocean Territory and Virgin Islands have more water-area than land-area.\n",
    "\n",
    "### Which countries will add the most people to their populations next year?"
   ]
  },
  {
   "cell_type": "code",
   "execution_count": 95,
   "metadata": {},
   "outputs": [
    {
     "name": "stdout",
     "output_type": "stream",
     "text": [
      " * sqlite:///factbook.db\n",
      "Done.\n"
     ]
    },
    {
     "data": {
      "text/html": [
       "<table>\n",
       "    <thead>\n",
       "        <tr>\n",
       "            <th>name</th>\n",
       "            <th>population</th>\n",
       "            <th>inc_in_population</th>\n",
       "        </tr>\n",
       "    </thead>\n",
       "    <tbody>\n",
       "        <tr>\n",
       "            <td>India</td>\n",
       "            <td>1251695584</td>\n",
       "            <td>15270686.0</td>\n",
       "        </tr>\n",
       "        <tr>\n",
       "            <td>China</td>\n",
       "            <td>1367485388</td>\n",
       "            <td>6153684.0</td>\n",
       "        </tr>\n",
       "        <tr>\n",
       "            <td>Nigeria</td>\n",
       "            <td>181562056</td>\n",
       "            <td>4448270.0</td>\n",
       "        </tr>\n",
       "        <tr>\n",
       "            <td>Pakistan</td>\n",
       "            <td>199085847</td>\n",
       "            <td>2906653.0</td>\n",
       "        </tr>\n",
       "        <tr>\n",
       "            <td>Ethiopia</td>\n",
       "            <td>99465819</td>\n",
       "            <td>2874562.0</td>\n",
       "        </tr>\n",
       "        <tr>\n",
       "            <td>Bangladesh</td>\n",
       "            <td>168957745</td>\n",
       "            <td>2703324.0</td>\n",
       "        </tr>\n",
       "        <tr>\n",
       "            <td>United States</td>\n",
       "            <td>321368864</td>\n",
       "            <td>2506677.0</td>\n",
       "        </tr>\n",
       "        <tr>\n",
       "            <td>Indonesia</td>\n",
       "            <td>255993674</td>\n",
       "            <td>2355142.0</td>\n",
       "        </tr>\n",
       "        <tr>\n",
       "            <td>Congo, Democratic Republic of the</td>\n",
       "            <td>79375136</td>\n",
       "            <td>1944691.0</td>\n",
       "        </tr>\n",
       "        <tr>\n",
       "            <td>Philippines</td>\n",
       "            <td>100998376</td>\n",
       "            <td>1626074.0</td>\n",
       "        </tr>\n",
       "    </tbody>\n",
       "</table>"
      ],
      "text/plain": [
       "[('India', 1251695584, 15270686.0),\n",
       " ('China', 1367485388, 6153684.0),\n",
       " ('Nigeria', 181562056, 4448270.0),\n",
       " ('Pakistan', 199085847, 2906653.0),\n",
       " ('Ethiopia', 99465819, 2874562.0),\n",
       " ('Bangladesh', 168957745, 2703324.0),\n",
       " ('United States', 321368864, 2506677.0),\n",
       " ('Indonesia', 255993674, 2355142.0),\n",
       " ('Congo, Democratic Republic of the', 79375136, 1944691.0),\n",
       " ('Philippines', 100998376, 1626074.0)]"
      ]
     },
     "execution_count": 95,
     "metadata": {},
     "output_type": "execute_result"
    }
   ],
   "source": [
    "%%sql\n",
    "SELECT  name,\n",
    "        population,\n",
    "        ROUND(population_growth*population/100, 0) AS inc_in_population\n",
    "FROM facts\n",
    "WHERE name<>'World'\n",
    "ORDER BY inc_in_population DESC\n",
    "LIMIT 10"
   ]
  },
  {
   "cell_type": "markdown",
   "metadata": {},
   "source": [
    "As expected, the number of people to be added is high in large-populated countries.\n",
    "\n",
    "### Which countries have a higher death rate than birth rate?"
   ]
  },
  {
   "cell_type": "code",
   "execution_count": 88,
   "metadata": {},
   "outputs": [
    {
     "name": "stdout",
     "output_type": "stream",
     "text": [
      " * sqlite:///factbook.db\n",
      "Done.\n"
     ]
    },
    {
     "data": {
      "text/html": [
       "<table>\n",
       "    <thead>\n",
       "        <tr>\n",
       "            <th>name</th>\n",
       "            <th>growth_rate</th>\n",
       "        </tr>\n",
       "    </thead>\n",
       "    <tbody>\n",
       "        <tr>\n",
       "            <td>Bulgaria</td>\n",
       "            <td>-5.52</td>\n",
       "        </tr>\n",
       "        <tr>\n",
       "            <td>Serbia</td>\n",
       "            <td>-4.58</td>\n",
       "        </tr>\n",
       "        <tr>\n",
       "            <td>Latvia</td>\n",
       "            <td>-4.31</td>\n",
       "        </tr>\n",
       "        <tr>\n",
       "            <td>Lithuania</td>\n",
       "            <td>-4.17</td>\n",
       "        </tr>\n",
       "        <tr>\n",
       "            <td>Ukraine</td>\n",
       "            <td>-3.74</td>\n",
       "        </tr>\n",
       "        <tr>\n",
       "            <td>Hungary</td>\n",
       "            <td>-3.57</td>\n",
       "        </tr>\n",
       "        <tr>\n",
       "            <td>Germany</td>\n",
       "            <td>-2.95</td>\n",
       "        </tr>\n",
       "        <tr>\n",
       "            <td>Slovenia</td>\n",
       "            <td>-2.95</td>\n",
       "        </tr>\n",
       "        <tr>\n",
       "            <td>Romania</td>\n",
       "            <td>-2.76</td>\n",
       "        </tr>\n",
       "        <tr>\n",
       "            <td>Croatia</td>\n",
       "            <td>-2.73</td>\n",
       "        </tr>\n",
       "        <tr>\n",
       "            <td>Belarus</td>\n",
       "            <td>-2.66</td>\n",
       "        </tr>\n",
       "        <tr>\n",
       "            <td>Monaco</td>\n",
       "            <td>-2.59</td>\n",
       "        </tr>\n",
       "        <tr>\n",
       "            <td>Greece</td>\n",
       "            <td>-2.43</td>\n",
       "        </tr>\n",
       "        <tr>\n",
       "            <td>Saint Pierre and Miquelon</td>\n",
       "            <td>-2.3</td>\n",
       "        </tr>\n",
       "        <tr>\n",
       "            <td>Russia</td>\n",
       "            <td>-2.09</td>\n",
       "        </tr>\n",
       "        <tr>\n",
       "            <td>Estonia</td>\n",
       "            <td>-1.89</td>\n",
       "        </tr>\n",
       "        <tr>\n",
       "            <td>Portugal</td>\n",
       "            <td>-1.75</td>\n",
       "        </tr>\n",
       "        <tr>\n",
       "            <td>Japan</td>\n",
       "            <td>-1.58</td>\n",
       "        </tr>\n",
       "        <tr>\n",
       "            <td>Italy</td>\n",
       "            <td>-1.45</td>\n",
       "        </tr>\n",
       "        <tr>\n",
       "            <td>Bosnia and Herzegovina</td>\n",
       "            <td>-0.88</td>\n",
       "        </tr>\n",
       "        <tr>\n",
       "            <td>Czech Republic</td>\n",
       "            <td>-0.71</td>\n",
       "        </tr>\n",
       "        <tr>\n",
       "            <td>Moldova</td>\n",
       "            <td>-0.59</td>\n",
       "        </tr>\n",
       "        <tr>\n",
       "            <td>Poland</td>\n",
       "            <td>-0.45</td>\n",
       "        </tr>\n",
       "        <tr>\n",
       "            <td>Austria</td>\n",
       "            <td>-0.01</td>\n",
       "        </tr>\n",
       "    </tbody>\n",
       "</table>"
      ],
      "text/plain": [
       "[('Bulgaria', -5.52),\n",
       " ('Serbia', -4.58),\n",
       " ('Latvia', -4.31),\n",
       " ('Lithuania', -4.17),\n",
       " ('Ukraine', -3.74),\n",
       " ('Hungary', -3.57),\n",
       " ('Germany', -2.95),\n",
       " ('Slovenia', -2.95),\n",
       " ('Romania', -2.76),\n",
       " ('Croatia', -2.73),\n",
       " ('Belarus', -2.66),\n",
       " ('Monaco', -2.59),\n",
       " ('Greece', -2.43),\n",
       " ('Saint Pierre and Miquelon', -2.3),\n",
       " ('Russia', -2.09),\n",
       " ('Estonia', -1.89),\n",
       " ('Portugal', -1.75),\n",
       " ('Japan', -1.58),\n",
       " ('Italy', -1.45),\n",
       " ('Bosnia and Herzegovina', -0.88),\n",
       " ('Czech Republic', -0.71),\n",
       " ('Moldova', -0.59),\n",
       " ('Poland', -0.45),\n",
       " ('Austria', -0.01)]"
      ]
     },
     "execution_count": 88,
     "metadata": {},
     "output_type": "execute_result"
    }
   ],
   "source": [
    "%%sql\n",
    "SELECT  name,\n",
    "        ROUND(birth_rate-death_rate, 2) AS growth_rate\n",
    "FROM facts\n",
    "WHERE death_rate>birth_rate\n",
    "ORDER BY growth_rate"
   ]
  }
 ],
 "metadata": {
  "kernelspec": {
   "display_name": "Python 3",
   "language": "python",
   "name": "python3"
  },
  "language_info": {
   "codemirror_mode": {
    "name": "ipython",
    "version": 3
   },
   "file_extension": ".py",
   "mimetype": "text/x-python",
   "name": "python",
   "nbconvert_exporter": "python",
   "pygments_lexer": "ipython3",
   "version": "3.7.6"
  }
 },
 "nbformat": 4,
 "nbformat_minor": 2
}
